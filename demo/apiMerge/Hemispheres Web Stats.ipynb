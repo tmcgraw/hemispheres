{
 "cells": [
  {
   "cell_type": "code",
   "execution_count": 1,
   "id": "91a721f4",
   "metadata": {},
   "outputs": [],
   "source": [
    "# This notebook will clean web statistics data by:\n",
    "#\n",
    "# 1) read a csv file containing web statistics from a hemispheres.com web site for an art gallery company\n",
    "# 2) identify missing data\n",
    "# 3) access a third party API to supply missing location data\n",
    "# 4) update the web statistics data with the API's location data"
   ]
  },
  {
   "cell_type": "code",
   "execution_count": 2,
   "id": "f895c2c1",
   "metadata": {},
   "outputs": [],
   "source": [
    "import pandas as pd\n",
    "import numpy as np"
   ]
  },
  {
   "cell_type": "code",
   "execution_count": 3,
   "id": "21151ca8",
   "metadata": {},
   "outputs": [],
   "source": [
    "web_stats_df = pd.read_csv(\"statz_CSV_titles.csv\")"
   ]
  },
  {
   "cell_type": "code",
   "execution_count": 4,
   "id": "4ecf54d0",
   "metadata": {},
   "outputs": [],
   "source": [
    "np.random.seed(0)"
   ]
  },
  {
   "cell_type": "code",
   "execution_count": 5,
   "id": "a75a4b2b",
   "metadata": {},
   "outputs": [],
   "source": [
    "# Gather some information about the web stats file and print some sample rows from it to better understand the file contents"
   ]
  },
  {
   "cell_type": "code",
   "execution_count": 6,
   "id": "31c23a3a",
   "metadata": {},
   "outputs": [
    {
     "name": "stdout",
     "output_type": "stream",
     "text": [
      "<class 'pandas.core.frame.DataFrame'>\n",
      "RangeIndex: 333351 entries, 0 to 333350\n",
      "Data columns (total 24 columns):\n",
      " #   Column      Non-Null Count   Dtype  \n",
      "---  ------      --------------   -----  \n",
      " 0   RECORDID    333351 non-null  int64  \n",
      " 1   EPOCH       333351 non-null  int64  \n",
      " 2   DATE        333351 non-null  int64  \n",
      " 3   DATESTAMP   333351 non-null  int64  \n",
      " 4   SESSION     333351 non-null  int64  \n",
      " 5   IP          333351 non-null  object \n",
      " 6   HOSTNAME    333351 non-null  object \n",
      " 7   PAGE        333351 non-null  object \n",
      " 8   L1          237079 non-null  object \n",
      " 9   L2          90124 non-null   object \n",
      " 10  ARTID       333351 non-null  int64  \n",
      " 11  EDITKEY     31629 non-null   object \n",
      " 12  FIRSTNAME   25206 non-null   object \n",
      " 13  LASTNAME    31565 non-null   object \n",
      " 14  CITY        129710 non-null  object \n",
      " 15  REGION      160898 non-null  object \n",
      " 16  REGIONCODE  160860 non-null  object \n",
      " 17  COUNTRY     331748 non-null  object \n",
      " 18  REF         333351 non-null  object \n",
      " 19  IPOLD       0 non-null       float64\n",
      " 20  BROWSER     0 non-null       float64\n",
      " 21  MEMID       333351 non-null  int64  \n",
      " 22  TYPE        237102 non-null  object \n",
      " 23  PUBLISH     333351 non-null  object \n",
      "dtypes: float64(2), int64(7), object(15)\n",
      "memory usage: 61.0+ MB\n"
     ]
    },
    {
     "data": {
      "text/html": [
       "<div>\n",
       "<style scoped>\n",
       "    .dataframe tbody tr th:only-of-type {\n",
       "        vertical-align: middle;\n",
       "    }\n",
       "\n",
       "    .dataframe tbody tr th {\n",
       "        vertical-align: top;\n",
       "    }\n",
       "\n",
       "    .dataframe thead th {\n",
       "        text-align: right;\n",
       "    }\n",
       "</style>\n",
       "<table border=\"1\" class=\"dataframe\">\n",
       "  <thead>\n",
       "    <tr style=\"text-align: right;\">\n",
       "      <th></th>\n",
       "      <th>RECORDID</th>\n",
       "      <th>EPOCH</th>\n",
       "      <th>DATE</th>\n",
       "      <th>DATESTAMP</th>\n",
       "      <th>SESSION</th>\n",
       "      <th>IP</th>\n",
       "      <th>HOSTNAME</th>\n",
       "      <th>PAGE</th>\n",
       "      <th>L1</th>\n",
       "      <th>L2</th>\n",
       "      <th>...</th>\n",
       "      <th>CITY</th>\n",
       "      <th>REGION</th>\n",
       "      <th>REGIONCODE</th>\n",
       "      <th>COUNTRY</th>\n",
       "      <th>REF</th>\n",
       "      <th>IPOLD</th>\n",
       "      <th>BROWSER</th>\n",
       "      <th>MEMID</th>\n",
       "      <th>TYPE</th>\n",
       "      <th>PUBLISH</th>\n",
       "    </tr>\n",
       "  </thead>\n",
       "  <tbody>\n",
       "    <tr>\n",
       "      <th>116201</th>\n",
       "      <td>467721</td>\n",
       "      <td>1625720700</td>\n",
       "      <td>7</td>\n",
       "      <td>20210707</td>\n",
       "      <td>75118331320707</td>\n",
       "      <td>75.118.33.132</td>\n",
       "      <td>d118-75-132-33.try.wideopenwest.com</td>\n",
       "      <td>Artist Gallery</td>\n",
       "      <td>Dorian Vallejo</td>\n",
       "      <td>26</td>\n",
       "      <td>...</td>\n",
       "      <td>Naperville</td>\n",
       "      <td>Illinois</td>\n",
       "      <td>IL</td>\n",
       "      <td>US</td>\n",
       "      <td>https://www.thbrennenfineart.com/artists.php</td>\n",
       "      <td>NaN</td>\n",
       "      <td>NaN</td>\n",
       "      <td>0</td>\n",
       "      <td>artist</td>\n",
       "      <td>yes</td>\n",
       "    </tr>\n",
       "    <tr>\n",
       "      <th>211718</th>\n",
       "      <td>563238</td>\n",
       "      <td>1639366651</td>\n",
       "      <td>12</td>\n",
       "      <td>20211212</td>\n",
       "      <td>154542492071212</td>\n",
       "      <td>154.54.249.207</td>\n",
       "      <td>crawl-prodd4-15.babbar.eu</td>\n",
       "      <td>Lew Brennan</td>\n",
       "      <td>Appapolo</td>\n",
       "      <td>NaN</td>\n",
       "      <td>...</td>\n",
       "      <td>NaN</td>\n",
       "      <td>NaN</td>\n",
       "      <td>NaN</td>\n",
       "      <td>US</td>\n",
       "      <td>unknown</td>\n",
       "      <td>NaN</td>\n",
       "      <td>NaN</td>\n",
       "      <td>0</td>\n",
       "      <td>artwork</td>\n",
       "      <td>yes</td>\n",
       "    </tr>\n",
       "    <tr>\n",
       "      <th>85498</th>\n",
       "      <td>437018</td>\n",
       "      <td>1621657260</td>\n",
       "      <td>21</td>\n",
       "      <td>20210521</td>\n",
       "      <td>681842122050521</td>\n",
       "      <td>68.184.212.205</td>\n",
       "      <td>068-184-212-205.res.spectrum.com</td>\n",
       "      <td>Artist Gallery</td>\n",
       "      <td>Wesley Wofford</td>\n",
       "      <td>48</td>\n",
       "      <td>...</td>\n",
       "      <td>Belleville</td>\n",
       "      <td>Illinois</td>\n",
       "      <td>IL</td>\n",
       "      <td>US</td>\n",
       "      <td>https://www.thbrennenfineart.com/artists.php</td>\n",
       "      <td>NaN</td>\n",
       "      <td>NaN</td>\n",
       "      <td>0</td>\n",
       "      <td>artist</td>\n",
       "      <td>yes</td>\n",
       "    </tr>\n",
       "    <tr>\n",
       "      <th>196564</th>\n",
       "      <td>548084</td>\n",
       "      <td>1636991535</td>\n",
       "      <td>15</td>\n",
       "      <td>20211115</td>\n",
       "      <td>1419881231115</td>\n",
       "      <td>141.98.81.23</td>\n",
       "      <td>141.98.81.23</td>\n",
       "      <td>Home Page</td>\n",
       "      <td>NaN</td>\n",
       "      <td>NaN</td>\n",
       "      <td>...</td>\n",
       "      <td>NaN</td>\n",
       "      <td>NaN</td>\n",
       "      <td>NaN</td>\n",
       "      <td>PA</td>\n",
       "      <td>unknown</td>\n",
       "      <td>NaN</td>\n",
       "      <td>NaN</td>\n",
       "      <td>0</td>\n",
       "      <td>NaN</td>\n",
       "      <td>yes</td>\n",
       "    </tr>\n",
       "    <tr>\n",
       "      <th>332743</th>\n",
       "      <td>733139</td>\n",
       "      <td>1661349620</td>\n",
       "      <td>24</td>\n",
       "      <td>20220824</td>\n",
       "      <td>6624975380824</td>\n",
       "      <td>66.249.75.38</td>\n",
       "      <td>crawl-66-249-75-38.googlebot.com</td>\n",
       "      <td>Giner Bueno</td>\n",
       "      <td>La Manana</td>\n",
       "      <td>NaN</td>\n",
       "      <td>...</td>\n",
       "      <td>NaN</td>\n",
       "      <td>NaN</td>\n",
       "      <td>NaN</td>\n",
       "      <td>US</td>\n",
       "      <td>unknown</td>\n",
       "      <td>NaN</td>\n",
       "      <td>NaN</td>\n",
       "      <td>0</td>\n",
       "      <td>artwork</td>\n",
       "      <td>yes</td>\n",
       "    </tr>\n",
       "  </tbody>\n",
       "</table>\n",
       "<p>5 rows × 24 columns</p>\n",
       "</div>"
      ],
      "text/plain": [
       "        RECORDID       EPOCH  DATE  DATESTAMP          SESSION  \\\n",
       "116201    467721  1625720700     7   20210707   75118331320707   \n",
       "211718    563238  1639366651    12   20211212  154542492071212   \n",
       "85498     437018  1621657260    21   20210521  681842122050521   \n",
       "196564    548084  1636991535    15   20211115    1419881231115   \n",
       "332743    733139  1661349620    24   20220824    6624975380824   \n",
       "\n",
       "                    IP                             HOSTNAME            PAGE  \\\n",
       "116201   75.118.33.132  d118-75-132-33.try.wideopenwest.com  Artist Gallery   \n",
       "211718  154.54.249.207            crawl-prodd4-15.babbar.eu     Lew Brennan   \n",
       "85498   68.184.212.205     068-184-212-205.res.spectrum.com  Artist Gallery   \n",
       "196564    141.98.81.23                         141.98.81.23       Home Page   \n",
       "332743    66.249.75.38     crawl-66-249-75-38.googlebot.com     Giner Bueno   \n",
       "\n",
       "                    L1   L2  ...        CITY    REGION REGIONCODE COUNTRY  \\\n",
       "116201  Dorian Vallejo   26  ...  Naperville  Illinois         IL      US   \n",
       "211718        Appapolo  NaN  ...         NaN       NaN        NaN      US   \n",
       "85498   Wesley Wofford   48  ...  Belleville  Illinois         IL      US   \n",
       "196564             NaN  NaN  ...         NaN       NaN        NaN      PA   \n",
       "332743       La Manana  NaN  ...         NaN       NaN        NaN      US   \n",
       "\n",
       "                                                 REF IPOLD BROWSER MEMID  \\\n",
       "116201  https://www.thbrennenfineart.com/artists.php   NaN     NaN     0   \n",
       "211718                                       unknown   NaN     NaN     0   \n",
       "85498   https://www.thbrennenfineart.com/artists.php   NaN     NaN     0   \n",
       "196564                                       unknown   NaN     NaN     0   \n",
       "332743                                       unknown   NaN     NaN     0   \n",
       "\n",
       "           TYPE  PUBLISH  \n",
       "116201   artist      yes  \n",
       "211718  artwork      yes  \n",
       "85498    artist      yes  \n",
       "196564      NaN      yes  \n",
       "332743  artwork      yes  \n",
       "\n",
       "[5 rows x 24 columns]"
      ]
     },
     "execution_count": 6,
     "metadata": {},
     "output_type": "execute_result"
    }
   ],
   "source": [
    "web_stats_df.info()\n",
    "web_stats_df.sample(5)"
   ]
  },
  {
   "cell_type": "code",
   "execution_count": 7,
   "id": "8b241cbd",
   "metadata": {},
   "outputs": [],
   "source": [
    "# calculate and print a count of all missing values. This will serve as control counts to compare with our work below"
   ]
  },
  {
   "cell_type": "code",
   "execution_count": 8,
   "id": "07f723fc",
   "metadata": {
    "scrolled": true
   },
   "outputs": [
    {
     "data": {
      "text/plain": [
       "RECORDID           0\n",
       "EPOCH              0\n",
       "DATE               0\n",
       "DATESTAMP          0\n",
       "SESSION            0\n",
       "IP                 0\n",
       "HOSTNAME           0\n",
       "PAGE               0\n",
       "L1             96272\n",
       "L2            243227\n",
       "ARTID              0\n",
       "EDITKEY       301722\n",
       "FIRSTNAME     308145\n",
       "LASTNAME      301786\n",
       "CITY          203641\n",
       "REGION        172453\n",
       "REGIONCODE    172491\n",
       "COUNTRY         1603\n",
       "REF                0\n",
       "IPOLD         333351\n",
       "BROWSER       333351\n",
       "MEMID              0\n",
       "TYPE           96249\n",
       "PUBLISH            0\n",
       "dtype: int64"
      ]
     },
     "execution_count": 8,
     "metadata": {},
     "output_type": "execute_result"
    }
   ],
   "source": [
    "missing_values_count = web_stats_df.isnull().sum()\n",
    "missing_values_count[0:24]"
   ]
  },
  {
   "cell_type": "code",
   "execution_count": 9,
   "id": "669111bc",
   "metadata": {},
   "outputs": [],
   "source": [
    "#Calculate total cells of the web status data frame, sum up the missing values and report the percentage"
   ]
  },
  {
   "cell_type": "code",
   "execution_count": 10,
   "id": "404f55f8",
   "metadata": {},
   "outputs": [
    {
     "data": {
      "text/plain": [
       "32.051938747246396"
      ]
     },
     "execution_count": 10,
     "metadata": {},
     "output_type": "execute_result"
    }
   ],
   "source": [
    "web_stats_total_cells = np.product(web_stats_df.shape)\n",
    "web_stats_total_missing_values = missing_values_count.sum()\n",
    "(web_stats_total_missing_values/web_stats_total_cells) * 100"
   ]
  },
  {
   "cell_type": "code",
   "execution_count": 11,
   "id": "6382a25b",
   "metadata": {},
   "outputs": [],
   "source": [
    "# Begin the process of filling in some of the most important missing data using data returned from an API call \n",
    "# to the IP-API public site\n",
    "\n",
    "# Set up request to the ip-api.com API\n",
    "\n",
    "## We are only doing 4 for demonstration purposes because more might incur costs.\n",
    "##\n",
    "## If we were going to fix all the missing values in web_stats_df we would select all of the web stat rows with missing data \n",
    "## with something like this: \n",
    "##\n",
    "##    web_stats_null_rows_df = web_stats_df[web_stats_df['CITY'].isnull() | web_stats_df['REGION'].isnull() | web_stats_df['REGIONCODE'].isnull() | web_stats_df['COUNTRY'].isnull()]\n",
    "##\n",
    "## and send all of the IP values in the API request instead of only four. "
   ]
  },
  {
   "cell_type": "code",
   "execution_count": 12,
   "id": "e35c6906",
   "metadata": {},
   "outputs": [],
   "source": [
    "import time\n",
    "import requests\n",
    "import json\n",
    "from pandas import json_normalize\n",
    "\n",
    "url = \"http://ip-api.com/batch?fields=status,message,country,region,regionName,city,zip,query\"\n",
    "\n",
    "#Build payload for request. \n",
    "payload = \"[\\\"154.54.249.207\\\", \\\"91.198.174.192\\\", \\\"141.98.81.23\\\", \\\"66.249.75.38\\\"]\"\n",
    "\n",
    "#Create content-type header for request. We're sending the request payload as plain text\n",
    "headers = {\n",
    "  'Content-Type': 'text/plain'\n",
    "}"
   ]
  },
  {
   "cell_type": "code",
   "execution_count": 13,
   "id": "1c83afce",
   "metadata": {},
   "outputs": [],
   "source": [
    "#Send the header and payload using a POST request, show the response status code (200 = OK) \n",
    "# and, since the result should be small, print the raw json response payload so we can see what we're dealing with"
   ]
  },
  {
   "cell_type": "code",
   "execution_count": 14,
   "id": "259b3b32",
   "metadata": {},
   "outputs": [
    {
     "name": "stdout",
     "output_type": "stream",
     "text": [
      "http status code = 200\n",
      "response json payload = [{\"status\":\"success\",\"country\":\"France\",\"region\":\"IDF\",\"regionName\":\"Île-de-France\",\"city\":\"Nozay\",\"zip\":\"91620\",\"query\":\"154.54.249.207\"},{\"status\":\"success\",\"country\":\"Netherlands\",\"region\":\"NH\",\"regionName\":\"North Holland\",\"city\":\"Amsterdam\",\"zip\":\"1012\",\"query\":\"91.198.174.192\"},{\"status\":\"success\",\"country\":\"Netherlands\",\"region\":\"DR\",\"regionName\":\"Drenthe\",\"city\":\"Meppel\",\"zip\":\"7941\",\"query\":\"141.98.81.23\"},{\"status\":\"success\",\"country\":\"United States\",\"region\":\"WA\",\"regionName\":\"Washington\",\"city\":\"Seattle\",\"zip\":\"98103\",\"query\":\"66.249.75.38\"}]\n"
     ]
    }
   ],
   "source": [
    "response = requests.request(\"POST\", url, headers=headers, data=payload)\n",
    "print('http status code = ' + str(response.status_code))\n",
    "print('response json payload = ' + response.text)"
   ]
  },
  {
   "cell_type": "code",
   "execution_count": 15,
   "id": "4df490f7",
   "metadata": {},
   "outputs": [],
   "source": [
    "# Parse the json response payload text into a pandas dictionary, create a pandas dataframe from the dictionary and print it"
   ]
  },
  {
   "cell_type": "code",
   "execution_count": 16,
   "id": "1500056d",
   "metadata": {
    "scrolled": true
   },
   "outputs": [
    {
     "name": "stdout",
     "output_type": "stream",
     "text": [
      "    status        country region     regionName       city    zip  \\\n",
      "0  success         France    IDF  Île-de-France      Nozay  91620   \n",
      "1  success    Netherlands     NH  North Holland  Amsterdam   1012   \n",
      "2  success    Netherlands     DR        Drenthe     Meppel   7941   \n",
      "3  success  United States     WA     Washington    Seattle  98103   \n",
      "\n",
      "            query  \n",
      "0  154.54.249.207  \n",
      "1  91.198.174.192  \n",
      "2    141.98.81.23  \n",
      "3    66.249.75.38  \n"
     ]
    }
   ],
   "source": [
    "locations = json.loads(response.text)\n",
    "\n",
    "location_df = pd.DataFrame(locations)\n",
    "\n",
    "print(location_df)"
   ]
  },
  {
   "cell_type": "code",
   "execution_count": 17,
   "id": "03068af3",
   "metadata": {},
   "outputs": [
    {
     "name": "stdout",
     "output_type": "stream",
     "text": [
      "    status        COUNTRY region         REGION       CITY    zip  \\\n",
      "0  success         France    IDF  Île-de-France      Nozay  91620   \n",
      "1  success    Netherlands     NH  North Holland  Amsterdam   1012   \n",
      "2  success    Netherlands     DR        Drenthe     Meppel   7941   \n",
      "3  success  United States     WA     Washington    Seattle  98103   \n",
      "\n",
      "               IP  \n",
      "0  154.54.249.207  \n",
      "1  91.198.174.192  \n",
      "2    141.98.81.23  \n",
      "3    66.249.75.38  \n"
     ]
    }
   ],
   "source": [
    "# rename some of the location_df columns to the same name of the web_stats_df columns for easier handling\n",
    "location_df.rename(columns={\"country\": \"COUNTRY\", \"region_code\": \"REGIONCODE\", \"regionName\": \"REGION\", \"city\": \"CITY\", \"query\": \"IP\"}, inplace = True)\n",
    "\n",
    "print(location_df)"
   ]
  },
  {
   "cell_type": "code",
   "execution_count": 18,
   "id": "fd5ba222",
   "metadata": {},
   "outputs": [],
   "source": [
    "# loop thru the locations data frame index and locate each web_stats dataframe\n",
    "# IP addresses with each location IP at the current index. If found replace all the web stats dataframe location values \n",
    "# with the locations data frame location values\n",
    "#\n",
    "# Calculate and print the missing counts.These counts can be compared to the counts for the original file above"
   ]
  },
  {
   "cell_type": "code",
   "execution_count": 19,
   "id": "4aa55706",
   "metadata": {
    "scrolled": true
   },
   "outputs": [
    {
     "data": {
      "text/plain": [
       "RECORDID           0\n",
       "EPOCH              0\n",
       "DATE               0\n",
       "DATESTAMP          0\n",
       "SESSION            0\n",
       "IP                 0\n",
       "HOSTNAME           0\n",
       "PAGE               0\n",
       "L1             96272\n",
       "L2            243227\n",
       "ARTID              0\n",
       "EDITKEY       301722\n",
       "FIRSTNAME     308145\n",
       "LASTNAME      301786\n",
       "CITY          197882\n",
       "REGION        166694\n",
       "REGIONCODE    172491\n",
       "COUNTRY         1600\n",
       "REF                0\n",
       "IPOLD         333351\n",
       "BROWSER       333351\n",
       "MEMID              0\n",
       "TYPE           96249\n",
       "PUBLISH            0\n",
       "dtype: int64"
      ]
     },
     "execution_count": 19,
     "metadata": {},
     "output_type": "execute_result"
    }
   ],
   "source": [
    "# There may be a better way to do this but we'll stick with this for now\n",
    "for ind in location_df.index:\n",
    "    web_stats_df.loc[web_stats_df['IP'] == location_df['IP'][ind], 'COUNTRY'] = location_df['COUNTRY'][ind]\n",
    "    web_stats_df.loc[web_stats_df['IP'] == location_df['IP'][ind], 'REGION'] = location_df['REGION'][ind]\n",
    "    web_stats_df.loc[web_stats_df['IP'] == location_df['IP'][ind], 'CITY'] = location_df['CITY'][ind]\n",
    "    web_stats_df.loc[web_stats_df['IP'] == location_df['IP'][ind], 'ZIP'] = location_df['zip'][ind]\n",
    "\n",
    "missing_values_count = web_stats_df.isnull().sum()\n",
    "missing_values_count[0:24]"
   ]
  },
  {
   "cell_type": "code",
   "execution_count": null,
   "id": "e55179a8",
   "metadata": {},
   "outputs": [],
   "source": []
  }
 ],
 "metadata": {
  "kernelspec": {
   "display_name": "Python 3 (ipykernel)",
   "language": "python",
   "name": "python3"
  },
  "language_info": {
   "codemirror_mode": {
    "name": "ipython",
    "version": 3
   },
   "file_extension": ".py",
   "mimetype": "text/x-python",
   "name": "python",
   "nbconvert_exporter": "python",
   "pygments_lexer": "ipython3",
   "version": "3.9.12"
  }
 },
 "nbformat": 4,
 "nbformat_minor": 5
}
